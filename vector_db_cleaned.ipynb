{
 "cells": [
  {
   "cell_type": "code",
   "execution_count": null,
   "metadata": {
    "colab": {
     "base_uri": "https://localhost:8080/"
    },
    "id": "QNniNzfdIq48",
    "outputId": "99959fa3-5457-4ff0-8604-fdc10a167ff8"
   },
   "outputs": [],
   "source": [
    "print(\"ok\")"
   ]
  },
  {
   "cell_type": "code",
   "execution_count": null,
   "metadata": {
    "colab": {
     "base_uri": "https://localhost:8080/"
    },
    "id": "OV0S6yg71y9M",
    "outputId": "07fe794c-bc5e-4bca-fbc8-27ce743075ce"
   },
   "outputs": [],
   "source": [
    "!pip install langchain-community"
   ]
  },
  {
   "cell_type": "code",
   "execution_count": null,
   "metadata": {
    "id": "JZ794Eb2Iq4-"
   },
   "outputs": [],
   "source": [
    "from langchain_community.document_loaders import PyPDFLoader"
   ]
  },
  {
   "cell_type": "code",
   "execution_count": null,
   "metadata": {
    "id": "tkLVegqxIq4-"
   },
   "outputs": [],
   "source": [
    "from langchain_community.document_loaders import PyPDFDirectoryLoader"
   ]
  },
  {
   "cell_type": "code",
   "execution_count": null,
   "metadata": {
    "colab": {
     "base_uri": "https://localhost:8080/"
    },
    "id": "PFQHgUp_3DGa",
    "outputId": "067f6dce-9122-432d-926d-9fdd1797b87c"
   },
   "outputs": [],
   "source": [
    "!pip install pypdf"
   ]
  },
  {
   "cell_type": "code",
   "execution_count": null,
   "metadata": {
    "id": "8hYLxSRjIq4-"
   },
   "outputs": [],
   "source": [
    "directory_loader=PyPDFDirectoryLoader(\"/content\")"
   ]
  },
  {
   "cell_type": "code",
   "execution_count": null,
   "metadata": {
    "colab": {
     "base_uri": "https://localhost:8080/"
    },
    "id": "f5TMDwXqIq4-",
    "outputId": "8c6ad22e-3c22-44ff-8252-140c2e6190a5"
   },
   "outputs": [],
   "source": [
    "len(directory_loader.load())"
   ]
  },
  {
   "cell_type": "code",
   "execution_count": null,
   "metadata": {
    "id": "7Le_H474Iq4_"
   },
   "outputs": [],
   "source": [
    "loader=PyPDFLoader(r\"/content/llama2.pdf\")"
   ]
  },
  {
   "cell_type": "code",
   "execution_count": null,
   "metadata": {
    "id": "GenkzAHJIq4_"
   },
   "outputs": [],
   "source": [
    "dcouments=loader.load() #### documents is the list"
   ]
  },
  {
   "cell_type": "code",
   "execution_count": null,
   "metadata": {
    "colab": {
     "base_uri": "https://localhost:8080/"
    },
    "id": "45N1czBmIq4_",
    "outputId": "c256f460-4db0-4c73-8807-f4f154e9e8e2"
   },
   "outputs": [],
   "source": [
    "dcouments"
   ]
  },
  {
   "cell_type": "code",
   "execution_count": null,
   "metadata": {
    "colab": {
     "base_uri": "https://localhost:8080/"
    },
    "id": "HQH_LUI5Iq4_",
    "outputId": "bf14496c-b1e1-4da6-bf93-7540232f4442"
   },
   "outputs": [],
   "source": [
    "len(dcouments)"
   ]
  },
  {
   "cell_type": "code",
   "execution_count": null,
   "metadata": {
    "colab": {
     "base_uri": "https://localhost:8080/"
    },
    "id": "ACfW8CDtIq4_",
    "outputId": "eb011e23-efb3-4202-8e57-7cf13617e8c0"
   },
   "outputs": [],
   "source": [
    "dcouments[0].metadata ### first page of ddocument"
   ]
  },
  {
   "cell_type": "code",
   "execution_count": null,
   "metadata": {
    "colab": {
     "base_uri": "https://localhost:8080/",
     "height": 127
    },
    "id": "7cga7OAQIq4_",
    "outputId": "16de9486-667f-4ede-c722-05a6d0b4f4e1"
   },
   "outputs": [],
   "source": [
    "dcouments[0].page_content"
   ]
  },
  {
   "cell_type": "code",
   "execution_count": null,
   "metadata": {
    "colab": {
     "base_uri": "https://localhost:8080/"
    },
    "id": "j3WXH35SIq5A",
    "outputId": "4e9c8955-861e-4675-de67-c08b4ad51167"
   },
   "outputs": [],
   "source": [
    "for doc in dcouments:\n",
    "    print(doc.page_content)\n",
    "    print(\"##################################################\")\n"
   ]
  },
  {
   "cell_type": "code",
   "execution_count": null,
   "metadata": {
    "id": "Gt71_gPg46mp"
   },
   "outputs": [],
   "source": [
    "#!pip install langchain_openai\n"
   ]
  },
  {
   "cell_type": "code",
   "execution_count": null,
   "metadata": {
    "id": "HrP9EXJno7sq"
   },
   "outputs": [],
   "source": [
    "\n",
    "#!pip install langchain-core\n",
    "#!pip install langchain-community\n",
    "#!pip install langchain_groq\n",
    "#!pip install sentence-transformers\n",
    "#!pip install faiss-cpu\n",
    "\n",
    "#!pip install langchain_openai\n",
    "\n"
   ]
  },
  {
   "cell_type": "code",
   "execution_count": null,
   "metadata": {
    "id": "X78X3U791t8w"
   },
   "outputs": [],
   "source": [
    "###Methods of chunking\n",
    "###1)textsplitter >> character -- based on the splitter of characters it divides the data\n",
    "###2)RecurssiveText splitter >> character level >> divide the data upon character chunks >> split the data according to Regex\n",
    "###3)Token text splitter >> token based >> divide the data on token based >> using LLM capability for tokenization\n",
    "###4)Json splitter\n",
    "####5)HTML splitter"
   ]
  },
  {
   "cell_type": "code",
   "execution_count": null,
   "metadata": {
    "id": "wnv7lAX45oTw"
   },
   "outputs": [],
   "source": [
    "#!pip uninstall -y langchain langchain-openai langchain-core\n",
    "#!pip install --upgrade langchain langchain-openai langchain-core"
   ]
  },
  {
   "cell_type": "code",
   "execution_count": null,
   "metadata": {
    "colab": {
     "base_uri": "https://localhost:8080/"
    },
    "id": "tfFUoNkbeZZ3",
    "outputId": "2df58fac-90a4-4c7a-d316-d7d6f9da2d3f"
   },
   "outputs": [],
   "source": [
    "# Then install correct compatible versions\n",
    "!pip install langchain==0.1.17 langchain-core==0.1.48 langchain-openai==0.0.8"
   ]
  },
  {
   "cell_type": "code",
   "execution_count": null,
   "metadata": {
    "id": "La4R8SwlIq5A"
   },
   "outputs": [],
   "source": [
    "from langchain_openai import OpenAIEmbeddings, ChatOpenAI"
   ]
  },
  {
   "cell_type": "code",
   "execution_count": null,
   "metadata": {
    "id": "wEGLtaZBfFRd"
   },
   "outputs": [],
   "source": [
    "from google.colab import userdata\n",
    "groq_api_key=userdata.get('groq_api_key')\n",
    "HF_TOKEN=userdata.get('HF_TOKEN')\n",
    "#print(groq_api_key)\n",
    "#print(HF_TOKEN)\n",
    "OPENAI_API_KEY=userdata.get('OPENAI_API_KEY')\n",
    "#print(OPENAI_API_KEY)\n",
    "GOOGLE_API_KEY=userdata.get('GOOGLE_API_KEY')\n",
    "#print(GOOGLE_API_KEY)\n",
    "langsmith=userdata.get('LANGSMITH_API_KEY')\n",
    "#print(langsmith)"
   ]
  },
  {
   "cell_type": "code",
   "execution_count": null,
   "metadata": {
    "id": "k5gfbTpifIqW"
   },
   "outputs": [],
   "source": [
    "#from dotenv import load_dotenv\n",
    "#load_dotenv()\n",
    "import os\n",
    "os.environ[\"OPENAI_API_KEY\"] = userdata.get(\"OPENAI_API_KEY\")"
   ]
  },
  {
   "cell_type": "code",
   "execution_count": null,
   "metadata": {
    "id": "xhXxquzKIq5A"
   },
   "outputs": [],
   "source": [
    "openai_embedding=OpenAIEmbeddings(model='text-embedding-3-large')"
   ]
  },
  {
   "cell_type": "code",
   "execution_count": null,
   "metadata": {
    "id": "IfB8FDzAIq5A"
   },
   "outputs": [],
   "source": [
    "# #these all the methods are for chunking\n",
    "# 1. character textsplitter(sepration based on given char)\n",
    "# 2. character recursive text splitter(regex)\n",
    "# 3. token text splitter(LLM capability)"
   ]
  },
  {
   "cell_type": "code",
   "execution_count": null,
   "metadata": {
    "id": "VKAuK-MpIq5A"
   },
   "outputs": [],
   "source": [
    "import faiss\n",
    "from langchain_community.docstore.in_memory import InMemoryDocstore\n",
    "from langchain_community.vectorstores import FAISS"
   ]
  },
  {
   "cell_type": "code",
   "execution_count": null,
   "metadata": {
    "colab": {
     "base_uri": "https://localhost:8080/",
     "height": 127
    },
    "id": "z2gJwjckIq5A",
    "outputId": "b50b6722-12b0-4383-a743-ac80034d82db"
   },
   "outputs": [],
   "source": [
    "dcouments[0].page_content"
   ]
  },
  {
   "cell_type": "code",
   "execution_count": null,
   "metadata": {
    "id": "QHebnN3OIq5A"
   },
   "outputs": [],
   "source": [
    "dim=len(openai_embedding.embed_query(dcouments[0].page_content))"
   ]
  },
  {
   "cell_type": "code",
   "execution_count": null,
   "metadata": {
    "id": "M0wR_LSiIq5B"
   },
   "outputs": [],
   "source": [
    "faiss_index=faiss.IndexFlatIP(dim)"
   ]
  },
  {
   "cell_type": "code",
   "execution_count": null,
   "metadata": {
    "id": "51jeudnkIq5B"
   },
   "outputs": [],
   "source": [
    "vector_store = FAISS(\n",
    "    embedding_function=openai_embedding,\n",
    "    index=faiss_index,\n",
    "    docstore=InMemoryDocstore(),\n",
    "    index_to_docstore_id={},\n",
    ")"
   ]
  },
  {
   "cell_type": "code",
   "execution_count": null,
   "metadata": {
    "colab": {
     "base_uri": "https://localhost:8080/"
    },
    "id": "INx16kupIq5B",
    "outputId": "6162643f-c08c-4b75-f0d3-3bd6f87982df"
   },
   "outputs": [],
   "source": [
    "dcouments"
   ]
  },
  {
   "cell_type": "code",
   "execution_count": null,
   "metadata": {
    "colab": {
     "base_uri": "https://localhost:8080/"
    },
    "id": "huY9Q5PqIq5B",
    "outputId": "95f3bb31-4c31-4ad3-fd65-101ebf514942"
   },
   "outputs": [],
   "source": [
    "vector_store.add_documents(dcouments)"
   ]
  },
  {
   "cell_type": "code",
   "execution_count": null,
   "metadata": {
    "colab": {
     "base_uri": "https://localhost:8080/"
    },
    "id": "Mlu4cNrcIq5B",
    "outputId": "6f2b3b44-ef15-466f-bd79-277c39fcac03"
   },
   "outputs": [],
   "source": [
    "vector_store.similarity_search(\n",
    "    query=\"what is llama2 and what is a difference between llama2 and mistral?\",\n",
    "    k=1\n",
    ")"
   ]
  },
  {
   "cell_type": "code",
   "execution_count": null,
   "metadata": {
    "id": "hXzhAMikIq5B"
   },
   "outputs": [],
   "source": []
  }
 ],
 "metadata": {
  "colab": {
   "provenance": []
  },
  "kernelspec": {
   "display_name": "Python 3",
   "language": "python",
   "name": "python3"
  },
  "language_info": {
   "codemirror_mode": {
    "name": "ipython",
    "version": 3
   },
   "file_extension": ".py",
   "mimetype": "text/x-python",
   "name": "python",
   "nbconvert_exporter": "python",
   "pygments_lexer": "ipython3",
   "version": "3.10.16"
  }
 },
 "nbformat": 4,
 "nbformat_minor": 0
}
